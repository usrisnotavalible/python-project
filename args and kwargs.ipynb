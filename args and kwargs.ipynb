{
 "cells": [
  {
   "cell_type": "code",
   "execution_count": 3,
   "id": "a1c69ece",
   "metadata": {},
   "outputs": [
    {
     "ename": "NameError",
     "evalue": "name 'fun_1' is not defined",
     "output_type": "error",
     "traceback": [
      "\u001b[1;31m---------------------------------------------------------------------------\u001b[0m",
      "\u001b[1;31mNameError\u001b[0m                                 Traceback (most recent call last)",
      "Input \u001b[1;32mIn [3]\u001b[0m, in \u001b[0;36m<cell line: 6>\u001b[1;34m()\u001b[0m\n\u001b[0;32m      1\u001b[0m \u001b[38;5;28;01mdef\u001b[39;00m \u001b[38;5;21mfunc_1\u001b[39m(a,b,c,d):\n\u001b[0;32m      2\u001b[0m     \u001b[38;5;28mprint\u001b[39m(a,b,c,d)\n\u001b[1;32m----> 6\u001b[0m \u001b[43mfun_1\u001b[49m(\u001b[38;5;124m\"\u001b[39m\u001b[38;5;124mAli\u001b[39m\u001b[38;5;124m\"\u001b[39m,\u001b[38;5;124m\"\u001b[39m\u001b[38;5;124mShiwam\u001b[39m\u001b[38;5;124m\"\u001b[39m,\u001b[38;5;124m\"\u001b[39m\u001b[38;5;124mHaider\u001b[39m\u001b[38;5;124m\"\u001b[39m,\u001b[38;5;124m\"\u001b[39m\u001b[38;5;124mAlexander\u001b[39m\u001b[38;5;124m\"\u001b[39m,\u001b[38;5;124m\"\u001b[39m\u001b[38;5;124mZu Hu\u001b[39m\u001b[38;5;124m\"\u001b[39m)\n",
      "\u001b[1;31mNameError\u001b[0m: name 'fun_1' is not defined"
     ]
    }
   ],
   "source": [
    "def func_1(a,b,c,d):\n",
    "    print(a,b,c,d)\n",
    "    \n",
    "\n",
    "\n",
    "fun_1(\"Ali\",\"Shiwam\",\"Haider\",\"Alexander\",\"Zu Hu\")\n",
    "\n",
    "'''If i put anoter element in the func_1 it will throw an error because we did not\n",
    "define it in the func_1 above when we def a function it is ok for small programs \n",
    "but when there is huge amount of code it simply cant work '''"
   ]
  },
  {
   "cell_type": "code",
   "execution_count": 16,
   "id": "aa8c1089",
   "metadata": {},
   "outputs": [
    {
     "name": "stdout",
     "output_type": "stream",
     "text": [
      "This is a normal argumnet \n",
      "\n",
      "Args are below\n",
      "\n",
      "Islamabad\n",
      "\n",
      "Peshwar\n",
      "\n",
      "Lahore\n",
      "\n",
      "Quetta\n",
      "\n",
      "Karachi\n",
      "\n",
      "Kwargs are below\n",
      "\n",
      "key  Name,value  Haider\n",
      "\n",
      "key  Class,value  11\n",
      "\n",
      "key  age,value  17\n",
      "\n"
     ]
    }
   ],
   "source": [
    "#Using *args\n",
    "\n",
    "''' here we willl use **args as well as **kwargs for the same function'''\n",
    "def func_args(var_1,*args,**kwargs):#the name can be anything\n",
    "    print(var_1)\n",
    "    print(\"Args are below\\n\")\n",
    "    for item in args:\n",
    "        print(item)\n",
    "    print(\"Kwargs are below\\n\")\n",
    "    for key,value in kwargs.items():\n",
    "        print(f\"key  {key},value  {value}\\n\")\n",
    "        \n",
    "    \n",
    "var_1 = \"This is a normal argumnet \\n\"\n",
    "var_2 = [\"Islamabad\\n\",\"Peshwar\\n\",\"Lahore\\n\",\"Quetta\\n\",\"Karachi\\n\"]\n",
    "var_3 = {\"Name\":\"Haider\",\"Class\":11,\"age\":17}\n",
    "func_args(var_1,*var_2,**var_3)\n"
   ]
  },
  {
   "cell_type": "code",
   "execution_count": 10,
   "id": "4224dd3f",
   "metadata": {},
   "outputs": [
    {
     "ename": "TypeError",
     "evalue": "func_args() missing 1 required keyword-only argument: 'var_1'",
     "output_type": "error",
     "traceback": [
      "\u001b[1;31m---------------------------------------------------------------------------\u001b[0m",
      "\u001b[1;31mTypeError\u001b[0m                                 Traceback (most recent call last)",
      "Input \u001b[1;32mIn [10]\u001b[0m, in \u001b[0;36m<cell line: 10>\u001b[1;34m()\u001b[0m\n\u001b[0;32m      8\u001b[0m var_1 \u001b[38;5;241m=\u001b[39m \u001b[38;5;124m\"\u001b[39m\u001b[38;5;124mThis is a normal argumnet \u001b[39m\u001b[38;5;130;01m\\n\u001b[39;00m\u001b[38;5;124m\"\u001b[39m\n\u001b[0;32m      9\u001b[0m var_2 \u001b[38;5;241m=\u001b[39m [\u001b[38;5;124m\"\u001b[39m\u001b[38;5;124mIslamabad\u001b[39m\u001b[38;5;130;01m\\n\u001b[39;00m\u001b[38;5;124m\"\u001b[39m,\u001b[38;5;124m\"\u001b[39m\u001b[38;5;124mPeshwar\u001b[39m\u001b[38;5;130;01m\\n\u001b[39;00m\u001b[38;5;124m\"\u001b[39m,\u001b[38;5;124m\"\u001b[39m\u001b[38;5;124mLahore\u001b[39m\u001b[38;5;130;01m\\n\u001b[39;00m\u001b[38;5;124m\"\u001b[39m,\u001b[38;5;124m\"\u001b[39m\u001b[38;5;124mQuetta\u001b[39m\u001b[38;5;130;01m\\n\u001b[39;00m\u001b[38;5;124m\"\u001b[39m,\u001b[38;5;124m\"\u001b[39m\u001b[38;5;124mKarachi\u001b[39m\u001b[38;5;130;01m\\n\u001b[39;00m\u001b[38;5;124m\"\u001b[39m]\n\u001b[1;32m---> 10\u001b[0m \u001b[43mfunc_args\u001b[49m\u001b[43m(\u001b[49m\u001b[38;5;241;43m*\u001b[39;49m\u001b[43mvar_2\u001b[49m\u001b[43m,\u001b[49m\u001b[43mvar_1\u001b[49m\u001b[43m)\u001b[49m\n",
      "\u001b[1;31mTypeError\u001b[0m: func_args() missing 1 required keyword-only argument: 'var_1'"
     ]
    }
   ],
   "source": [
    "#If we put args first before the normal argumnet\n",
    "def func_args(*args,var_1):#the name can be anything\n",
    "    print(var_1)\n",
    "    for items in args:\n",
    "        print(items)\n",
    "    \n",
    "    \n",
    "var_1 = \"This is a normal argumnet \\n\"\n",
    "var_2 = [\"Islamabad\\n\",\"Peshwar\\n\",\"Lahore\\n\",\"Quetta\\n\",\"Karachi\\n\"]\n",
    "func_args(*var_2,var_1)\n",
    "\n",
    "#this will throw an error you cannot do this with *args neither with **kwargs\n",
    "# the syntax will always be  (normal,*args,**kwargs)"
   ]
  },
  {
   "cell_type": "code",
   "execution_count": null,
   "id": "bdd691c2",
   "metadata": {},
   "outputs": [],
   "source": []
  }
 ],
 "metadata": {
  "kernelspec": {
   "display_name": "Python 3 (ipykernel)",
   "language": "python",
   "name": "python3"
  },
  "language_info": {
   "codemirror_mode": {
    "name": "ipython",
    "version": 3
   },
   "file_extension": ".py",
   "mimetype": "text/x-python",
   "name": "python",
   "nbconvert_exporter": "python",
   "pygments_lexer": "ipython3",
   "version": "3.9.12"
  }
 },
 "nbformat": 4,
 "nbformat_minor": 5
}
